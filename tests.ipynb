{
 "cells": [
  {
   "cell_type": "code",
   "execution_count": 88,
   "metadata": {},
   "outputs": [],
   "source": [
    "from fitness import evaluate\n",
    "import os\n",
    "from operations import *\n",
    "from util import *\n",
    "import json\n",
    "\n",
    "TRAIN_PATH = './ARC/data/training'\n",
    "EVAL_PATH = './ARC/data/evaluation'\n",
    "\n",
    "if not os.path.exists(TRAIN_PATH): \n",
    "    !git clone https://github.com/fchollet/ARC.git\n",
    "\n",
    "training_tasks = sorted(os.listdir(TRAIN_PATH))\n"
   ]
  },
  {
   "cell_type": "code",
   "execution_count": 91,
   "metadata": {},
   "outputs": [
    {
     "name": "stdout",
     "output_type": "stream",
     "text": [
      "swap_color:0->3\n"
     ]
    },
    {
     "data": {
      "image/png": "[encoded data removed]",
      "text/plain": [
       "<Figure size 432x288 with 2 Axes>"
      ]
     },
     "metadata": {
      "needs_background": "light"
     },
     "output_type": "display_data"
    }
   ],
   "source": [
    "program = [all_operations[14]]\n",
    "print(program_desc(program))\n",
    "task_file = str(TRAIN_PATH + \"/\" + training_tasks[19])\n",
    "with open(task_file, 'r') as f:\n",
    "    task = json.load(f)\n",
    "\n",
    "results = evaluate(program=program, input_image=task['test'][0]['input'])\n",
    "show_image_list([task['test'][0]['input'], results[0]])"
   ]
  }
 ],
 "metadata": {
  "kernelspec": {
   "display_name": "Python 3",
   "language": "python",
   "name": "python3"
  },
  "orig_nbformat": 4,
  "vscode": {
   "interpreter": {
    "hash": "86d8ffa651b6893afce4879b753a5613df26c9ed2fb158116259986f59064580"
   }
  }
 },
 "nbformat": 4,
 "nbformat_minor": 2
}
